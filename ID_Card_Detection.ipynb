{
  "nbformat": 4,
  "nbformat_minor": 0,
  "metadata": {
    "colab": {
      "provenance": [],
      "gpuType": "V28",
      "authorship_tag": "ABX9TyPxxUqe2hS8QIATHAyVrMCH"
    },
    "kernelspec": {
      "name": "python3",
      "display_name": "Python 3"
    },
    "language_info": {
      "name": "python"
    },
    "accelerator": "TPU"
  },
  "cells": [
    {
      "cell_type": "code",
      "execution_count": null,
      "metadata": {
        "id": "rKHynuJQDXFI"
      },
      "outputs": [],
      "source": [
        "# clone YOLOv5 repository\n",
        "\n",
        "!git clone https://github.com/ultralytics/yolov5  # clone repo\n",
        "%cd yolov5"
      ]
    },
    {
      "cell_type": "code",
      "source": [
        "# install dependencies as necessary\n",
        "!pip install -qr requirements.txt  # install dependencies (ignore errors)\n",
        "import torch\n",
        "\n",
        "from IPython.display import Image, clear_output  # to display images\n",
        "from utils.downloads import attempt_download  # to download models/datasets\n",
        "\n",
        "print('Setup complete. Using torch %s %s' % (torch.__version__, torch.cuda.get_device_properties(0) if torch.cuda.is_available() else 'CPU'))"
      ],
      "metadata": {
        "id": "RTNd1SGjFB5A"
      },
      "execution_count": null,
      "outputs": []
    },
    {
      "cell_type": "markdown",
      "source": [
        "###DataSet Dependency"
      ],
      "metadata": {
        "id": "ATjmnYSjFobL"
      }
    },
    {
      "cell_type": "code",
      "source": [
        "!pip install -q roboflow"
      ],
      "metadata": {
        "id": "dAAr_am2Fk2e"
      },
      "execution_count": null,
      "outputs": []
    },
    {
      "cell_type": "code",
      "source": [
        "from google.colab import userdata\n",
        "from roboflow import Roboflow\n",
        "rf = Roboflow(api_key=userdata.get('API_KEY'))\n",
        "project = rf.workspace(\"project1-nz7bm\").project(\"id-detection-g79pv\")\n",
        "version = project.version(1)\n",
        "dataset = version.download(\"yolov5\")"
      ],
      "metadata": {
        "id": "CdOWDwhQF2eY"
      },
      "execution_count": null,
      "outputs": []
    },
    {
      "cell_type": "code",
      "source": [
        "dataset.location"
      ],
      "metadata": {
        "id": "DCi42k2EJiU2"
      },
      "execution_count": null,
      "outputs": []
    },
    {
      "cell_type": "code",
      "source": [
        "%cat {dataset.location}/data.yaml"
      ],
      "metadata": {
        "id": "iB71VsuhJpR7"
      },
      "execution_count": null,
      "outputs": []
    },
    {
      "cell_type": "code",
      "source": [
        "import yaml\n",
        "with open(dataset.location + \"/data.yaml\", 'r') as stream:\n",
        "    num_classes = str(yaml.safe_load(stream)['nc'])"
      ],
      "metadata": {
        "id": "gmFxekF2KUsN"
      },
      "execution_count": null,
      "outputs": []
    },
    {
      "cell_type": "code",
      "source": [
        "%cat /content/yolov5/models/yolov5s.yaml"
      ],
      "metadata": {
        "id": "bSbeg44BdtPD"
      },
      "execution_count": null,
      "outputs": []
    },
    {
      "cell_type": "code",
      "source": [
        "from IPython.core.magic import register_line_cell_magic\n",
        "\n",
        "@register_line_cell_magic\n",
        "def writetemplate(line, cell):\n",
        "    with open(line, 'w') as f:\n",
        "        f.write(cell.format(**globals()))"
      ],
      "metadata": {
        "id": "PWJhWhiweXcQ"
      },
      "execution_count": null,
      "outputs": []
    },
    {
      "cell_type": "code",
      "source": [
        "# %%writetemplate /content/yolov5/models/custom_yolov5s.yaml\n",
        "\n",
        "# # parameters\n",
        "# nc: {num_classes}  # number of classes\n",
        "# depth_multiple: 0.33  # model depth multiple\n",
        "# width_multiple: 0.50  # layer channel multiple\n",
        "\n",
        "# # anchors\n",
        "# anchors:\n",
        "#   - [10,13, 16,30, 33,23]  # P3/8\n",
        "#   - [30,61, 62,45, 59,119]  # P4/16\n",
        "#   - [116,90, 156,198, 373,326]  # P5/32\n",
        "\n",
        "# # YOLOv5 backbone\n",
        "# backbone:\n",
        "#   # [from, number, module, args]\n",
        "#   [[-1, 1, Focus, [64, 3]],  # 0-P1/2\n",
        "#    [-1, 1, Conv, [128, 3, 2]],  # 1-P2/4\n",
        "#    [-1, 3, BottleneckCSP, [128]],\n",
        "#    [-1, 1, Conv, [256, 3, 2]],  # 3-P3/8\n",
        "#    [-1, 9, BottleneckCSP, [256]],\n",
        "#    [-1, 1, Conv, [512, 3, 2]],  # 5-P4/16\n",
        "#    [-1, 9, BottleneckCSP, [512]],\n",
        "#    [-1, 1, Conv, [1024, 3, 2]],  # 7-P5/32\n",
        "#    [-1, 1, SPP, [1024, [5, 9, 13]]],\n",
        "#    [-1, 3, BottleneckCSP, [1024, False]],  # 9\n",
        "#   ]\n",
        "\n",
        "# # YOLOv5 head\n",
        "# head:\n",
        "#   [[-1, 1, Conv, [512, 1, 1]],\n",
        "#    [-1, 1, nn.Upsample, [None, 2, 'nearest']],\n",
        "#    [[-1, 6], 1, Concat, [1]],  # cat backbone P4\n",
        "#    [-1, 3, BottleneckCSP, [512, False]],  # 13\n",
        "\n",
        "#    [-1, 1, Conv, [256, 1, 1]],\n",
        "#    [-1, 1, nn.Upsample, [None, 2, 'nearest']],\n",
        "#    [[-1, 4], 1, Concat, [1]],  # cat backbone P3\n",
        "#    [-1, 3, BottleneckCSP, [256, False]],  # 17 (P3/8-small)\n",
        "\n",
        "#    [-1, 1, Conv, [256, 3, 2]],\n",
        "#    [[-1, 14], 1, Concat, [1]],  # cat head P4\n",
        "#    [-1, 3, BottleneckCSP, [512, False]],  # 20 (P4/16-medium)\n",
        "\n",
        "#    [-1, 1, Conv, [512, 3, 2]],\n",
        "#    [[-1, 10], 1, Concat, [1]],  # cat head P5\n",
        "#    [-1, 3, BottleneckCSP, [1024, False]],  # 23 (P5/32-large)\n",
        "\n",
        "#    [[17, 20, 23], 1, Detect, [nc, anchors]],  # Detect(P3, P4, P5)\n",
        "#   ]"
      ],
      "metadata": {
        "id": "EuMI7jIbegW7"
      },
      "execution_count": null,
      "outputs": []
    },
    {
      "cell_type": "code",
      "source": [
        "%%time\n",
        "%cd /content/yolov5/\n",
        "!python train.py --img 416 --batch 16 --epochs 10 --data {dataset.location}/data.yaml --cfg ./models/yolov5s.yaml --weights 'yolov5s.pt' --name yolov5s_results  --cache"
      ],
      "metadata": {
        "id": "4aKTU-71ekZr"
      },
      "execution_count": null,
      "outputs": []
    },
    {
      "cell_type": "code",
      "source": [
        "from utils.plots import plot_results  # plot results.txt as results.png\n",
        "Image(filename='/content/yolov5/runs/train/yolov5s_results/results.png', width=1000)  # view results.png"
      ],
      "metadata": {
        "id": "ZDawzwpL6E50"
      },
      "execution_count": null,
      "outputs": []
    },
    {
      "cell_type": "code",
      "source": [
        "Image(filename='/content/yolov5/runs/train/yolov5s_results/val_batch0_labels.jpg', width=900)"
      ],
      "metadata": {
        "id": "UgIvUfhy6zdH"
      },
      "execution_count": null,
      "outputs": []
    },
    {
      "cell_type": "code",
      "source": [
        "print(\"GROUND TRUTH AUGMENTED TRAINING DATA:\")\n",
        "Image(filename='/content/yolov5/runs/train/yolov5s_results/train_batch0.jpg', width=900)"
      ],
      "metadata": {
        "id": "SIGYz7vJ68GC"
      },
      "execution_count": null,
      "outputs": []
    },
    {
      "cell_type": "code",
      "source": [
        "# trained weights are saved by default in our weights folder\n",
        "%ls runs/"
      ],
      "metadata": {
        "id": "9CBi59lO7FqS"
      },
      "execution_count": null,
      "outputs": []
    },
    {
      "cell_type": "code",
      "source": [
        "%ls runs/train/yolov5s_results/weights"
      ],
      "metadata": {
        "id": "0FZP-QHL7G7z"
      },
      "execution_count": null,
      "outputs": []
    },
    {
      "cell_type": "code",
      "source": [
        "%cd /content/yolov5/\n",
        "!python detect.py --weights runs/train/yolov5s_results/weights/best.pt --img 416 --conf 0.4 --source /content/yolov5/ID-detection-1/test/personal"
      ],
      "metadata": {
        "colab": {
          "base_uri": "https://localhost:8080/"
        },
        "id": "spnFY_rN7KkA",
        "outputId": "d4001923-be36-4e38-cff7-11ef9411c416"
      },
      "execution_count": null,
      "outputs": [
        {
          "output_type": "stream",
          "name": "stdout",
          "text": [
            "/content/yolov5\n",
            "\u001b[34m\u001b[1mdetect: \u001b[0mweights=['runs/train/yolov5s_results/weights/best.pt'], source=/content/yolov5/ID-detection-1/test/personal, data=data/coco128.yaml, imgsz=[416, 416], conf_thres=0.4, iou_thres=0.45, max_det=1000, device=, view_img=False, save_txt=False, save_csv=False, save_conf=False, save_crop=False, nosave=False, classes=None, agnostic_nms=False, augment=False, visualize=False, update=False, project=runs/detect, name=exp, exist_ok=False, line_thickness=3, hide_labels=False, hide_conf=False, half=False, dnn=False, vid_stride=1\n",
            "YOLOv5 🚀 v7.0-353-g5eca7b9c Python-3.10.12 torch-2.3.0+cpu CPU\n",
            "\n",
            "Fusing layers... \n",
            "YOLOv5s summary: 157 layers, 7015519 parameters, 0 gradients, 15.8 GFLOPs\n",
            "image 1/1 /content/yolov5/ID-detection-1/test/personal/WhatsApp Image 2024-08-18 at 11.21.50_dedf3c4d.jpg: 320x416 (no detections), 54.4ms\n",
            "Speed: 0.5ms pre-process, 54.4ms inference, 0.4ms NMS per image at shape (1, 3, 416, 416)\n",
            "Results saved to \u001b[1mruns/detect/exp4\u001b[0m\n"
          ]
        }
      ]
    },
    {
      "cell_type": "code",
      "source": [],
      "metadata": {
        "id": "1CltlyD9EDEj"
      },
      "execution_count": null,
      "outputs": []
    }
  ]
}